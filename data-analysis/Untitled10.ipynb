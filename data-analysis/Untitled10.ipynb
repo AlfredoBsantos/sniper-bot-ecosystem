{
 "cells": [
  {
   "cell_type": "code",
   "execution_count": 3,
   "id": "0e32290e-52a1-48b5-808e-f9ac80f9e1c7",
   "metadata": {},
   "outputs": [
    {
     "name": "stdout",
     "output_type": "stream",
     "text": [
      "--- Passo 1: Carregando dados da Mainnet do seu servidor ---\n",
      "Sucesso! Carregamos uma amostra de 1000 transações para enriquecer e analisar.\n",
      "\n",
      "--- Passo 2: Buscando recibos e decodificando dados... (Isso pode levar vários minutos) ---\n"
     ]
    },
    {
     "data": {
      "application/vnd.jupyter.widget-view+json": {
       "model_id": "a166a80e524c4db698f942a33419405b",
       "version_major": 2,
       "version_minor": 0
      },
      "text/plain": [
       "  0%|          | 0/1000 [00:00<?, ?it/s]"
      ]
     },
     "metadata": {},
     "output_type": "display_data"
    },
    {
     "name": "stdout",
     "output_type": "stream",
     "text": [
      "\n",
      "--- Dataset Final com Features de Nível Profissional ---\n",
      "Nenhum swap simples (swapExactTokensForTokens) foi encontrado na amostra analisada.\n"
     ]
    }
   ],
   "source": [
    "# ==============================================================================\n",
    "# SCRIPT FINAL DE ENGENHARIA DE FEATURES\n",
    "# ==============================================================================\n",
    "\n",
    "import pandas as pd\n",
    "from sqlalchemy import create_engine\n",
    "from web3 import Web3\n",
    "import json\n",
    "from tqdm.auto import tqdm\n",
    "from concurrent.futures import ThreadPoolExecutor, as_completed\n",
    "\n",
    "# --- Passo 1: Carregar os Dados Brutos do Banco de Dados ---\n",
    "print(\"--- Passo 1: Carregando dados da Mainnet do seu servidor ---\")\n",
    "SERVER_IP = \"34.79.99.180\" \n",
    "db_connection_str = f'postgresql://admin:supersecret@{SERVER_IP}:5433/mempool_data'\n",
    "df = pd.DataFrame()\n",
    "try:\n",
    "    db_engine = create_engine(db_connection_str)\n",
    "    # Selecionamos apenas o hash e o inputData para começar\n",
    "    df = pd.read_sql('SELECT hash, \"inputData\" FROM transactions', con=db_engine)\n",
    "    # Pegamos uma amostra para o processo não ser muito longo\n",
    "    df_sample = df.sample(n=min(1000, len(df)), random_state=42).copy()\n",
    "    print(f\"Sucesso! Carregamos uma amostra de {len(df_sample)} transações para enriquecer e analisar.\")\n",
    "except Exception as e:\n",
    "    print(f\"--- ERRO ao carregar dados do banco: {e} ---\")\n",
    "\n",
    "# --- Passo 2: Enriquecer e Decodificar Cada Transação ---\n",
    "if not df_sample.empty:\n",
    "    print(\"\\n--- Passo 2: Buscando recibos e decodificando dados... (Isso pode levar vários minutos) ---\")\n",
    "    \n",
    "    alchemy_url = \"https://eth-mainnet.g.alchemy.com/v2/OPbbmuEc74NysSD6jK28Z\"\n",
    "    w3 = Web3(Web3.HTTPProvider(alchemy_url))\n",
    "\n",
    "    # ABIs para decodificar\n",
    "    router_abi = json.loads('[{\"name\":\"swapExactTokensForTokens\",\"inputs\":[{\"type\":\"uint256\",\"name\":\"amountIn\"},{\"type\":\"address[]\",\"name\":\"path\"}],\"type\":\"function\"}]')\n",
    "    pair_abi = json.loads('[{\"anonymous\":false,\"inputs\":[{\"indexed\":true,\"internalType\":\"address\",\"name\":\"sender\",\"type\":\"address\"},{\"indexed\":false,\"internalType\":\"uint256\",\"name\":\"amount0In\",\"type\":\"uint256\"},{\"indexed\":false,\"internalType\":\"uint256\",\"name\":\"amount1In\",\"type\":\"uint256\"},{\"indexed\":false,\"internalType\":\"uint256\",\"name\":\"amount0Out\",\"type\":\"uint256\"},{\"indexed\":false,\"internalType\":\"uint256\",\"name\":\"amount1Out\",\"type\":\"uint256\"},{\"indexed\":true,\"internalType\":\"address\",\"name\":\"to\",\"type\":\"address\"}],\"name\":\"Swap\",\"type\":\"event\"}]')\n",
    "    \n",
    "    generic_router_contract = w3.eth.contract(abi=router_abi)\n",
    "    \n",
    "    # Assinatura do evento de Swap da Uniswap V2 (keccak-256 hash)\n",
    "    SWAP_EVENT_SIGNATURE = \"0xd78ad95fa46c994b6551d0da85fc275fe613ce37657fb8d5e3d130840159d822\"\n",
    "\n",
    "    def process_transaction(row):\n",
    "        tx_hash = row['hash']\n",
    "        input_data = row['inputData']\n",
    "        \n",
    "        try:\n",
    "            # Decodifica o Input Data\n",
    "            input_bytes = bytes.fromhex(input_data[2:])\n",
    "            func_obj, func_params = generic_router_contract.decode_function_input(input_bytes)\n",
    "            \n",
    "            # Se não for um swap, retorna nulo\n",
    "            if 'swap' not in func_obj.fn_name.lower():\n",
    "                return None\n",
    "            \n",
    "            # Pega o recibo da transação\n",
    "            receipt = w3.eth.get_transaction_receipt(tx_hash)\n",
    "            \n",
    "            # Procura o evento de Swap nos logs\n",
    "            amount_out = 0\n",
    "            for log_entry in receipt['logs']:\n",
    "                if log_entry['topics'][0].hex() == SWAP_EVENT_SIGNATURE:\n",
    "                    # O evento Swap na V2 tem os valores de entrada e saída nos dados\n",
    "                    amounts = w3.eth.codec.decode(['uint256', 'uint256', 'uint256', 'uint256'], log_entry['data'])\n",
    "                    amount0Out, amount1Out = amounts[2], amounts[3]\n",
    "                    # O amountOut real é o que não for zero\n",
    "                    amount_out = amount0Out if amount0Out > 0 else amount1Out\n",
    "                    break\n",
    "            \n",
    "            # Extrai as features\n",
    "            path = func_params.get('path', [])\n",
    "            token_in = path[0] if path else None\n",
    "            token_out = path[-1] if path else None\n",
    "            amount_in = func_params.get('amountIn', 0)\n",
    "            \n",
    "            return {\n",
    "                'hash': tx_hash,\n",
    "                'function_name': func_obj.fn_name,\n",
    "                'token_in': token_in,\n",
    "                'token_out': token_out,\n",
    "                'amount_in': amount_in,\n",
    "                'amount_out_real': amount_out\n",
    "            }\n",
    "\n",
    "        except Exception:\n",
    "            return None\n",
    "\n",
    "    # Processamento concorrente para acelerar\n",
    "    tasks = []\n",
    "    processed_results = []\n",
    "    with ThreadPoolExecutor(max_workers=50) as executor:\n",
    "        for index, row in df_sample.iterrows():\n",
    "            tasks.append(executor.submit(process_transaction, row))\n",
    "        for future in tqdm(as_completed(tasks), total=len(tasks)):\n",
    "            result = future.result()\n",
    "            if result: # Adiciona apenas os resultados que não são nulos\n",
    "                processed_results.append(result)\n",
    "\n",
    "    # Cria o DataFrame final com as features\n",
    "    features_df = pd.DataFrame(processed_results)\n",
    "    \n",
    "    print(\"\\n--- Dataset Final com Features de Nível Profissional ---\")\n",
    "    if not features_df.empty:\n",
    "        # Feature final: O preço efetivo do swap\n",
    "        # Adicionamos 1 para evitar divisão por zero\n",
    "        features_df['effective_price'] = features_df['amount_out_real'] / (features_df['amount_in'] + 1)\n",
    "        display(features_df.head())\n",
    "    else:\n",
    "        print(\"Nenhum swap simples (swapExactTokensForTokens) foi encontrado na amostra analisada.\")\n",
    "\n",
    "else:\n",
    "    print(\"Nenhum dado carregado do banco.\")"
   ]
  },
  {
   "cell_type": "code",
   "execution_count": null,
   "id": "aa62a4eb-def9-4753-8260-a9b65a12309b",
   "metadata": {},
   "outputs": [],
   "source": []
  },
  {
   "cell_type": "code",
   "execution_count": null,
   "id": "a07ac99c-9939-407e-91ea-2cebad3e60b3",
   "metadata": {},
   "outputs": [],
   "source": []
  }
 ],
 "metadata": {
  "kernelspec": {
   "display_name": "Python 3 (ipykernel)",
   "language": "python",
   "name": "python3"
  },
  "language_info": {
   "codemirror_mode": {
    "name": "ipython",
    "version": 3
   },
   "file_extension": ".py",
   "mimetype": "text/x-python",
   "name": "python",
   "nbconvert_exporter": "python",
   "pygments_lexer": "ipython3",
   "version": "3.10.18"
  }
 },
 "nbformat": 4,
 "nbformat_minor": 5
}
