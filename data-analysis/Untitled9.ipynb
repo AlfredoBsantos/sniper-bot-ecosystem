{
 "cells": [
  {
   "cell_type": "code",
   "execution_count": 14,
   "id": "70e82d33-ceab-4123-abc0-11053c4cd807",
   "metadata": {
    "scrolled": true
   },
   "outputs": [
    {
     "name": "stdout",
     "output_type": "stream",
     "text": [
      "--- Passo 1: Carregando dados da Mainnet do seu servidor ---\n",
      "Sucesso! Carregamos uma amostra de 1313 transações para análise.\n",
      "\n",
      "--- Passo 2: Decodificando transações e construindo mapa de preços...\n",
      "Mapa de 0 pares de troca únicos construído.\n",
      "\n",
      "--- Passo 3: Caçando ciclos triangulares (A->B->C->A) ---\n"
     ]
    },
    {
     "data": {
      "application/vnd.jupyter.widget-view+json": {
       "model_id": "030d0f2b75e1431da6334b8633e57901",
       "version_major": 2,
       "version_minor": 0
      },
      "text/plain": [
       "0it [00:00, ?it/s]"
      ]
     },
     "metadata": {},
     "output_type": "display_data"
    },
    {
     "name": "stdout",
     "output_type": "stream",
     "text": [
      "\n",
      "Nenhum ciclo triangular completo encontrado nesta amostra de dados.\n"
     ]
    }
   ],
   "source": [
    "import pandas as pd\n",
    "from sqlalchemy import create_engine\n",
    "import json\n",
    "from web3 import Web3\n",
    "from tqdm.auto import tqdm\n",
    "from itertools import permutations\n",
    "import warnings\n",
    "\n",
    "warnings.filterwarnings('ignore')\n",
    "\n",
    "# ------------------------------------------------------------------------------\n",
    "# PASSO 1: Carregar e Preparar os Dados\n",
    "# ------------------------------------------------------------------------------\n",
    "print(\"--- Passo 1: Carregando dados da Mainnet do seu servidor ---\")\n",
    "SERVER_IP = \"34.79.99.180\" \n",
    "db_connection_str = f'postgresql://admin:supersecret@{SERVER_IP}:5433/mempool_data'\n",
    "df = pd.DataFrame()\n",
    "\n",
    "try:\n",
    "    db_engine = create_engine(db_connection_str)\n",
    "    # Vamos pegar uma amostra maior para aumentar a chance de encontrar ciclos\n",
    "    df_raw = pd.read_sql(\"SELECT hash, \\\"inputData\\\", to_address, gas_price, base_fee_per_gas FROM transactions\", con=db_engine)\n",
    "    df = df_raw.sample(n=min(5000, len(df_raw)), random_state=42).copy()\n",
    "    print(f\"Sucesso! Carregamos uma amostra de {len(df)} transações para análise.\")\n",
    "    df.dropna(subset=['inputData'], inplace=True)\n",
    "except Exception as e:\n",
    "    print(f\"--- ERRO ao carregar dados: {e} ---\")\n",
    "\n",
    "# ------------------------------------------------------------------------------\n",
    "# PASSO 2: Decodificar Dados e Construir Mapa de Preços\n",
    "# ------------------------------------------------------------------------------\n",
    "if not df.empty:\n",
    "    print(\"\\n--- Passo 2: Decodificando transações e construindo mapa de preços...\")\n",
    "    \n",
    "    # ABI para decodificar swaps e extrair o path\n",
    "    router_abi_str = '[{\"name\":\"swapExactTokensForTokens\",\"inputs\":[{\"type\":\"uint256\",\"name\":\"amountIn\"},{\"type\":\"uint256\",\"name\":\"amountOutMin\"},{\"type\":\"address[]\",\"name\":\"path\"}],\"type\":\"function\"}]'\n",
    "    router_abi = json.loads(router_abi_str)\n",
    "    generic_contract = Web3().eth.contract(abi=router_abi)\n",
    "\n",
    "    def extract_path(input_data):\n",
    "        try:\n",
    "            input_bytes = bytes.fromhex(input_data[2:])\n",
    "            func_obj, func_params = generic_contract.decode_function_input(input_bytes)\n",
    "            # Retornamos apenas o caminho dos tokens\n",
    "            return func_params.get('path', [])\n",
    "        except Exception:\n",
    "            return []\n",
    "\n",
    "    df['path'] = df['inputData'].apply(extract_path)\n",
    "    \n",
    "    # Filtra apenas transações que são swaps diretos (caminho com 2 tokens)\n",
    "    swaps_df = df[df['path'].apply(lambda x: len(x) == 2)].copy()\n",
    "    \n",
    "    # Criamos um \"mapa de preços\" ou, mais precisamente, um mapa de conexões\n",
    "    # A chave é um par de tokens (token_in, token_out) e o valor é o endereço do roteador\n",
    "    price_map = {}\n",
    "    for index, row in swaps_df.iterrows():\n",
    "        token_in, token_out = row['path'][0], row['path'][1]\n",
    "        router_address = row['to_address']\n",
    "        if (token_in, token_out) not in price_map:\n",
    "            price_map[(token_in, token_out)] = []\n",
    "        if router_address not in price_map[(token_in, token_out)]:\n",
    "            price_map[(token_in, token_out)].append(router_address)\n",
    "            \n",
    "    print(f\"Mapa de {len(price_map)} pares de troca únicos construído.\")\n",
    "\n",
    "# ------------------------------------------------------------------------------\n",
    "# PASSO 3: Caçar Ciclos Triangulares\n",
    "# ------------------------------------------------------------------------------\n",
    "if 'price_map' in locals():\n",
    "    print(\"\\n--- Passo 3: Caçando ciclos triangulares (A->B->C->A) ---\")\n",
    "    \n",
    "    all_tokens = pd.unique(swaps_df['path'].explode())\n",
    "    found_cycles = []\n",
    "\n",
    "    # Geramos todas as permutações de 3 tokens\n",
    "    for p in tqdm(permutations(all_tokens, 3), total=len(all_tokens)**3):\n",
    "        token_a, token_b, token_c = p[0], p[1], p[2]\n",
    "        \n",
    "        # Verifica se os 3 \"lados\" do triângulo existem no nosso mapa de preços\n",
    "        if (token_a, token_b) in price_map and \\\n",
    "           (token_b, token_c) in price_map and \\\n",
    "           (token_c, token_a) in price_map:\n",
    "            \n",
    "            cycle = f\"{token_a} -> {token_b} -> {token_c} -> {token_a}\"\n",
    "            if cycle not in found_cycles:\n",
    "                found_cycles.append(cycle)\n",
    "                \n",
    "    if found_cycles:\n",
    "        print(f\"\\nSucesso! Encontrados {len(found_cycles)} potenciais ciclos de arbitragem triangular para investigar:\")\n",
    "        # Mostra os 5 primeiros encontrados\n",
    "        for cycle in found_cycles[:5]:\n",
    "            print(f\"  - Ciclo Encontrado: {cycle}\")\n",
    "    else:\n",
    "        print(\"\\nNenhum ciclo triangular completo encontrado nesta amostra de dados.\")\n",
    "\n",
    "else:\n",
    "    print(\"Nenhum dado de swap para analisar.\")"
   ]
  },
  {
   "cell_type": "code",
   "execution_count": null,
   "id": "30ec6c8d-15a4-47cb-b4fc-5af8f1af0abb",
   "metadata": {},
   "outputs": [],
   "source": []
  }
 ],
 "metadata": {
  "kernelspec": {
   "display_name": "Python 3 (ipykernel)",
   "language": "python",
   "name": "python3"
  },
  "language_info": {
   "codemirror_mode": {
    "name": "ipython",
    "version": 3
   },
   "file_extension": ".py",
   "mimetype": "text/x-python",
   "name": "python",
   "nbconvert_exporter": "python",
   "pygments_lexer": "ipython3",
   "version": "3.10.18"
  }
 },
 "nbformat": 4,
 "nbformat_minor": 5
}
